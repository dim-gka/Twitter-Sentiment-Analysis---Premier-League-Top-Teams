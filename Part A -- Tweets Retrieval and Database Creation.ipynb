{
 "cells": [
  {
   "cell_type": "markdown",
   "id": "912c1e64",
   "metadata": {},
   "source": [
    "# Install Libraries (if necessary)"
   ]
  },
  {
   "cell_type": "code",
   "execution_count": 9,
   "id": "589bc2c1",
   "metadata": {},
   "outputs": [],
   "source": [
    "# !pip install textblob\n",
    "# !pip install tweepy"
   ]
  },
  {
   "cell_type": "markdown",
   "id": "e5304b06",
   "metadata": {},
   "source": [
    "# Import Libraries"
   ]
  },
  {
   "cell_type": "code",
   "execution_count": 10,
   "id": "5897987f",
   "metadata": {},
   "outputs": [],
   "source": [
    "# Import Libraries\n",
    "from textblob import TextBlob\n",
    "import re\n",
    "import sys\n",
    "import tweepy\n",
    "import matplotlib.pyplot as plt\n",
    "import os\n",
    "import string\n",
    "\n",
    "import mysql.connector"
   ]
  },
  {
   "cell_type": "markdown",
   "id": "addee7e4",
   "metadata": {},
   "source": [
    "# Twitter API Credentials"
   ]
  },
  {
   "cell_type": "code",
   "execution_count": 11,
   "id": "b2c8ee03",
   "metadata": {},
   "outputs": [],
   "source": [
    "# Authentication credentials of Twitter API\n",
    "\n",
    "consumerKey = \"XXXXXXXXXX\"\n",
    "consumerSecret = \"XXXXXXXXXXXXXXXXXXXXXXXXX\"\n",
    "accessToken = \"XXXXXXXXXXXXXXXXXXXXX\"\n",
    "accessTokenSecret = \"XXXXXXXXXXXXXXXXXXXXXXXXXXX\"\n",
    "\n",
    "auth = tweepy.OAuthHandler(consumerKey, consumerSecret)\n",
    "auth.set_access_token(accessToken, accessTokenSecret)\n",
    "api = tweepy.API(auth)"
   ]
  },
  {
   "cell_type": "markdown",
   "id": "57aac5ab",
   "metadata": {},
   "source": [
    "# Create and Connect to Database"
   ]
  },
  {
   "cell_type": "code",
   "execution_count": 12,
   "id": "579b5e38",
   "metadata": {},
   "outputs": [
    {
     "name": "stdout",
     "output_type": "stream",
     "text": [
      "CONNECTED TO MYSQL DATABASE! \n",
      ".\n",
      ".\n",
      ".\n",
      ".\n",
      "This table already exist\n"
     ]
    }
   ],
   "source": [
    "# Connect to MySQL\n",
    "\n",
    "db = mysql.connector.connect(host='localhost', database='TwitterAnalysis', user='root', password='')\n",
    "if db.is_connected():\n",
    "    print(\"CONNECTED TO MYSQL DATABASE! \\n.\\n.\\n.\\n.\")\n",
    "cur = db.cursor(buffered = True)\n",
    "\n",
    "\n",
    "# Check if Table already exists. If not, create the Table in our Database\n",
    "\n",
    "q1 = \"SHOW TABLES LIKE 'TweetStorage'\" \n",
    "cur.execute(q1)\n",
    "res = cur.fetchall()\n",
    "if res:\n",
    "    print('This table already exist')\n",
    "else:\n",
    "    table_creation = \"CREATE TABLE TweetStorage (id int AUTO_INCREMENT, Username varchar(30), Followers int, Num_Tweets int, Num_Retweets int, Tweet_Text varchar(400), Create_Date varchar(30),Likes int, Location varchar(50), Hashtags varchar(400), Sentiment varchar(15), primary key (id));\"\n",
    "    cur.execute(table_creation)\n",
    "    db.commit()\n",
    "    print(\"Table created successfully!\")\n",
    "    cur.execute(\"SHOW TABLES\")"
   ]
  },
  {
   "cell_type": "markdown",
   "id": "23ac8622",
   "metadata": {},
   "source": [
    "### Clean Tweets Function"
   ]
  },
  {
   "cell_type": "code",
   "execution_count": 13,
   "id": "97126b4a",
   "metadata": {},
   "outputs": [],
   "source": [
    "# Function for cleaning the text from emojissymbols & URLs\n",
    "\n",
    "def clean_text(txt):\n",
    "    emoji_pat = re.compile(\"[\"\n",
    "                               u\"\\U0001F600-\\U0001F64F\"  # emoticons\n",
    "                               u\"\\U0001F300-\\U0001F5FF\"  # symbols & pictographs\n",
    "                               u\"\\U0001F680-\\U0001F6FF\"  # transport & map symbols\n",
    "                               u\"\\U0001F1E0-\\U0001F1FF\"  # flags (iOS)\n",
    "                               u\"\\U00002500-\\U00002BEF\"  # chinese char\n",
    "                               u\"\\ufe0f\"  # dingbats\n",
    "                               \"]+\", flags=re.UNICODE)\n",
    "      \n",
    "    # Clean text from Emojis\n",
    "    clean_text = emoji_pat.sub(r'', txt)\n",
    "    \n",
    "    \n",
    "    # Clean Text from URL\n",
    "    clean_text = re.sub('((www\\.[^\\s]+)|(https?://[^\\s]+))', ' ', clean_text)\n",
    "    \n",
    "    \n",
    "    # Clean Text from Mentions\n",
    "    clean_text = re.sub(\"@[A-Za-z0-9_]+\",\"\", clean_text)\n",
    "\n",
    "    return clean_text"
   ]
  },
  {
   "cell_type": "markdown",
   "id": "b248a841",
   "metadata": {},
   "source": [
    "### TextBlob - Determine Polarity Functon"
   ]
  },
  {
   "cell_type": "code",
   "execution_count": 14,
   "id": "560270c0",
   "metadata": {},
   "outputs": [],
   "source": [
    "# Function for setting the polarity to Positive / Negative / Neutral using TextBlob\n",
    "\n",
    "def sentiment_pol(cl_text):\n",
    "    if TextBlob(cl_text).sentiment.polarity > 0.05:\n",
    "        polarity = 'Positive'\n",
    "    elif TextBlob(cl_text).sentiment.polarity < -0.05:\n",
    "        polarity = 'Negative'\n",
    "    else:\n",
    "        polarity = 'Neutral'\n",
    "    return polarity"
   ]
  },
  {
   "cell_type": "markdown",
   "id": "7bc2a141",
   "metadata": {},
   "source": [
    "# Fetching Tweets and Upload to Database Function "
   ]
  },
  {
   "cell_type": "code",
   "execution_count": 15,
   "id": "493600be",
   "metadata": {},
   "outputs": [],
   "source": [
    "def TweetRequest(word,num):\n",
    "\n",
    "    keyword = word\n",
    "    noOfTweet = num\n",
    "    \n",
    "    # Variables to determine how much of the fetched tweets are actually written in the database.\n",
    "    # Duplicate tweets will be discarted\n",
    "    records_created = 0\n",
    "    duplicates = 0 \n",
    "    \n",
    "    # Initializing tweepy. Excluding retweets.\n",
    "    tweets = tweepy.Cursor(api.search_tweets, tweet_mode=\"extended\", q=keyword + ' -filter:retweets',lang='en').items(noOfTweet) # Connect with API and make request\n",
    "    \n",
    "    \n",
    "\n",
    "    for tweet in tweets:\n",
    "        \n",
    "        cl_text = clean_text(tweet.full_text)   # clean text using the clean_text function above\n",
    "            \n",
    "        User = tweet.user.screen_name,\n",
    "        Followers = tweet.user.followers_count,\n",
    "        Number_Tweets = tweet.user.statuses_count,\n",
    "        Number_Retweets = tweet.retweet_count,\n",
    "        Tweet_Creation_Date = str(tweet.created_at),\n",
    "        Likes = tweet.favorite_count,\n",
    "        Location = tweet.user.location,\n",
    "        Hashtag_list = re.findall(r\"#(\\w+)\", tweet.full_text)  # finding all hashtags in the tweet\n",
    "        Hashtags = ' '.join([str(i) for i in Hashtag_list]) # put all hashtag words of the tweet in a single string\n",
    "        Polarity = sentiment_pol(cl_text) \n",
    "            \n",
    "            \n",
    "        # Transfer the data into the database\n",
    "            \n",
    "        write_to_db = \"INSERT INTO TweetStorage (Username, Followers, Num_Tweets, Num_Retweets, Tweet_Text, Create_Date, Likes, Location, Hashtags, Sentiment) VALUES (%s, %s, %s, %s, %s, %s, %s, %s, %s, %s)\"\n",
    "            \n",
    "        # Values to be inserted on the record    \n",
    "        insert_values = (\n",
    "            User[0],\n",
    "            Followers[0],\n",
    "            Number_Tweets[0],\n",
    "            Number_Retweets[0],\n",
    "            cl_text,\n",
    "            Tweet_Creation_Date[0][:16], \n",
    "            Likes[0],\n",
    "            Location[0],\n",
    "            Hashtags,\n",
    "            Polarity)\n",
    "        \n",
    "        \n",
    "        #Point on the Table to get a all the rows of the table as a list of tupples, in order to check for duplicates.\n",
    "        \n",
    "        cur.execute(\"SELECT Username,Followers,Num_Tweets,Num_Retweets,Tweet_Text,Create_Date,Likes,Location,Hashtags,Sentiment FROM TweetStorage\")\n",
    "        table_db = cur.fetchall()\n",
    "        \n",
    "                \n",
    "        # Check if there are duplicate posts of the same user and skip them from importing to Table\n",
    "        \n",
    "        if insert_values not in table_db:\n",
    "            cur.execute(write_to_db, insert_values)\n",
    "            db.commit()\n",
    "            records_created += 1\n",
    "        else:\n",
    "            duplicates += 1\n",
    "            \n",
    "    print(noOfTweet, \" Records Requested.\")        \n",
    "    print(records_created, \" Records Created.\")\n",
    "    print(duplicates, \"Duplicates Found\")"
   ]
  },
  {
   "cell_type": "markdown",
   "id": "fcaf006b",
   "metadata": {},
   "source": [
    "# Run The TweetRequest Function"
   ]
  },
  {
   "cell_type": "markdown",
   "id": "af896a8e",
   "metadata": {},
   "source": [
    "## Liverpool"
   ]
  },
  {
   "cell_type": "code",
   "execution_count": 16,
   "id": "9197814f",
   "metadata": {},
   "outputs": [
    {
     "name": "stdout",
     "output_type": "stream",
     "text": [
      "1000  Records Requested.\n",
      "994  Records Created.\n",
      "6 Duplicates Found\n"
     ]
    }
   ],
   "source": [
    "TweetRequest(\"#LiverpoolFC\",1000)"
   ]
  },
  {
   "cell_type": "markdown",
   "id": "c1e61830",
   "metadata": {},
   "source": [
    "## Mancehster United"
   ]
  },
  {
   "cell_type": "code",
   "execution_count": 17,
   "id": "f6d5b52d",
   "metadata": {
    "scrolled": true
   },
   "outputs": [
    {
     "name": "stdout",
     "output_type": "stream",
     "text": [
      "1000  Records Requested.\n",
      "998  Records Created.\n",
      "2 Duplicates Found\n"
     ]
    }
   ],
   "source": [
    "TweetRequest(\"#ManUtd\",1000)"
   ]
  },
  {
   "cell_type": "markdown",
   "id": "661da80a",
   "metadata": {},
   "source": [
    "## Manchester City"
   ]
  },
  {
   "cell_type": "code",
   "execution_count": 7,
   "id": "ff41e435",
   "metadata": {},
   "outputs": [
    {
     "name": "stdout",
     "output_type": "stream",
     "text": [
      "1000  Records Requested.\n",
      "994  Records Created.\n",
      "6 Duplicates Found\n"
     ]
    }
   ],
   "source": [
    "TweetRequest(\"#ManCity\",1000)"
   ]
  }
 ],
 "metadata": {
  "kernelspec": {
   "display_name": "Python 3 (ipykernel)",
   "language": "python",
   "name": "python3"
  },
  "language_info": {
   "codemirror_mode": {
    "name": "ipython",
    "version": 3
   },
   "file_extension": ".py",
   "mimetype": "text/x-python",
   "name": "python",
   "nbconvert_exporter": "python",
   "pygments_lexer": "ipython3",
   "version": "3.8.12"
  }
 },
 "nbformat": 4,
 "nbformat_minor": 5
}
